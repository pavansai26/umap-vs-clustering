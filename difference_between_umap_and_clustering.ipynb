{
  "nbformat": 4,
  "nbformat_minor": 0,
  "metadata": {
    "colab": {
      "name": "difference between umap and clustering.ipynb",
      "provenance": [],
      "private_outputs": true,
      "authorship_tag": "ABX9TyOSGTzY5BEsW3QuhBkIY4O+",
      "include_colab_link": true
    },
    "kernelspec": {
      "name": "python3",
      "display_name": "Python 3"
    },
    "accelerator": "GPU"
  },
  "cells": [
    {
      "cell_type": "markdown",
      "metadata": {
        "id": "view-in-github",
        "colab_type": "text"
      },
      "source": [
        "<a href=\"https://colab.research.google.com/github/pavansai26/umap-vs-clustering/blob/master/difference_between_umap_and_clustering.ipynb\" target=\"_parent\"><img src=\"https://colab.research.google.com/assets/colab-badge.svg\" alt=\"Open In Colab\"/></a>"
      ]
    },
    {
      "cell_type": "code",
      "metadata": {
        "id": "eVhI8UOOmD5K",
        "colab_type": "code",
        "colab": {}
      },
      "source": [
        "import numpy as np\n",
        "import pandas as pd\n",
        "#from sklearn.datasets import fetch_mldata\n",
        "from sklearn.utils import resample\n",
        "import time"
      ],
      "execution_count": 0,
      "outputs": []
    },
    {
      "cell_type": "code",
      "metadata": {
        "id": "148MOGn6njZE",
        "colab_type": "code",
        "colab": {}
      },
      "source": [
        "pip install MulticoreTSNE"
      ],
      "execution_count": 0,
      "outputs": []
    },
    {
      "cell_type": "code",
      "metadata": {
        "id": "K5lVce1ymhxZ",
        "colab_type": "code",
        "colab": {}
      },
      "source": [
        "from sklearn.manifold import TSNE,LocallyLinearEmbedding,Isomap,MDS,SpectralEmbedding\n",
        "from sklearn.decomposition import PCA\n",
        "from MulticoreTSNE import MulticoreTSNE"
      ],
      "execution_count": 0,
      "outputs": []
    },
    {
      "cell_type": "code",
      "metadata": {
        "id": "U75NxC1EnUzh",
        "colab_type": "code",
        "colab": {}
      },
      "source": [
        "import umap"
      ],
      "execution_count": 0,
      "outputs": []
    },
    {
      "cell_type": "code",
      "metadata": {
        "id": "JojVUu40nviH",
        "colab_type": "code",
        "colab": {}
      },
      "source": [
        "import matplotlib.pyplot as plt\n",
        "import seaborn as sns\n"
      ],
      "execution_count": 0,
      "outputs": []
    },
    {
      "cell_type": "code",
      "metadata": {
        "id": "b49n4Uu-n4Lf",
        "colab_type": "code",
        "colab": {}
      },
      "source": [
        "sns.set(context='notebook',rc={'figure.figsize':(12,10)})"
      ],
      "execution_count": 0,
      "outputs": []
    },
    {
      "cell_type": "code",
      "metadata": {
        "id": "o1FgmF2MRKBE",
        "colab_type": "code",
        "colab": {}
      },
      "source": [
        "pip install hdbscan"
      ],
      "execution_count": 0,
      "outputs": []
    },
    {
      "cell_type": "code",
      "metadata": {
        "id": "HzEC-teXRTaJ",
        "colab_type": "code",
        "colab": {}
      },
      "source": [
        "import hdbscan\n",
        "import sklearn.cluster as cluster"
      ],
      "execution_count": 0,
      "outputs": []
    },
    {
      "cell_type": "code",
      "metadata": {
        "id": "QkdBnzTnR011",
        "colab_type": "code",
        "colab": {}
      },
      "source": [
        "from sklearn.metrics import adjusted_rand_score, adjusted_mutual_info_score"
      ],
      "execution_count": 0,
      "outputs": []
    },
    {
      "cell_type": "code",
      "metadata": {
        "id": "dLMHML22ST8-",
        "colab_type": "code",
        "colab": {}
      },
      "source": [
        "from sklearn.datasets import fetch_openml\n",
        "mnist = fetch_openml('mnist_784')"
      ],
      "execution_count": 0,
      "outputs": []
    },
    {
      "cell_type": "code",
      "metadata": {
        "id": "gze-VjO7UlUS",
        "colab_type": "code",
        "colab": {}
      },
      "source": [
        "standard_embedding=umap.UMAP(random_state=42).fit_transform(mnist.data)\n",
        "plt.scatter(standard_embedding[:,0],standard_embedding[:,1],s=0.1)"
      ],
      "execution_count": 0,
      "outputs": []
    },
    {
      "cell_type": "markdown",
      "metadata": {
        "id": "f4eGwFpNU5px",
        "colab_type": "text"
      },
      "source": [
        "TRADITIONAL CLUSTERING"
      ]
    },
    {
      "cell_type": "code",
      "metadata": {
        "id": "d9E4ZFEnU92s",
        "colab_type": "code",
        "colab": {}
      },
      "source": [
        "kmeans_labels=cluster.KMeans(n_clusters=10).fit_predict(mnist.data)"
      ],
      "execution_count": 0,
      "outputs": []
    },
    {
      "cell_type": "code",
      "metadata": {
        "id": "8mbrNQIAVbDY",
        "colab_type": "code",
        "colab": {}
      },
      "source": [
        "plt.scatter(standard_embedding[:,0],standard_embedding[:,1],c=kmeans_labels,s=0.1)"
      ],
      "execution_count": 0,
      "outputs": []
    },
    {
      "cell_type": "code",
      "metadata": {
        "id": "waQa0oqbWWlq",
        "colab_type": "code",
        "colab": {}
      },
      "source": [
        ""
      ],
      "execution_count": 0,
      "outputs": []
    },
    {
      "cell_type": "markdown",
      "metadata": {
        "id": "6_oAhQKZklfu",
        "colab_type": "text"
      },
      "source": [
        "THIS IS NOT really the result we were looking for (though it does expose interesting properties of how k means chooses clusters in high dimensional space and how umap unwraps the manifolds by finding manifold boundaries. while kmeans get some cases correct the two clusters are the far right are mostly correct, most of the rest of the data  looks somewhat arbitarly carved up among the remaining clusters.we can put this impression to the test by evaluating the adjusted rand score and adjust mutual information for this clustering as compared with the true labels."
      ]
    },
    {
      "cell_type": "code",
      "metadata": {
        "id": "IOc8D712nYnc",
        "colab_type": "code",
        "colab": {}
      },
      "source": [
        "(adjusted_rand_score(mnist.target,kmeans_labels),adjusted_mutual_info_score(mnist.target,kmeans_labels))"
      ],
      "execution_count": 0,
      "outputs": []
    },
    {
      "cell_type": "code",
      "metadata": {
        "id": "FujDXfNdolBX",
        "colab_type": "code",
        "colab": {}
      },
      "source": [
        ""
      ],
      "execution_count": 0,
      "outputs": []
    },
    {
      "cell_type": "markdown",
      "metadata": {
        "id": "S3gdL9DSozDX",
        "colab_type": "text"
      },
      "source": [
        "as might expected we have not done a particuraly good job "
      ]
    },
    {
      "cell_type": "markdown",
      "metadata": {
        "id": "9cJLq7S2pPJm",
        "colab_type": "text"
      },
      "source": [
        "as might be expected we have not done a particuraly good job both scores take the values with in the  range from 0 to 1, with 0 representing a bad clustering and 1 representing perfectively recovering the true labels, k means definitely not was arandom , but it was also quite a long way from a perfectly recovering the true labels. part of the problem is way the kmeans works, based on centroids with an assumption of largely spherical clusters. this is rensponsible for some  of the sharp divides that kmeans puts across digit classes.\n",
        "we can potentially improve on this by using a smarter density based algorithm. in this case we have choosen to try hdbscan, which we believe to be among the most advanced density based techniques. for the sake of performance we will reduce the dimensionality of the data down to 50 dimensions via pca (this recovers the most of the variance) since hdbscan scales somewhat poorly with the dimensionality of the data it will work on."
      ]
    },
    {
      "cell_type": "code",
      "metadata": {
        "id": "EhwlZolqu1b-",
        "colab_type": "code",
        "colab": {}
      },
      "source": [
        "lowd_mnist=PCA(n_components=50).fit_transform(mnist.data)\n",
        "hdbscan_labels=hdbscan.HDBSCAN(min_samples=10,min_cluster_size=500).fit_predict(lowd_mnist)"
      ],
      "execution_count": 0,
      "outputs": []
    },
    {
      "cell_type": "code",
      "metadata": {
        "id": "t-1jCttKxRwF",
        "colab_type": "code",
        "colab": {}
      },
      "source": [
        ""
      ],
      "execution_count": 0,
      "outputs": []
    },
    {
      "cell_type": "markdown",
      "metadata": {
        "id": "tD_Upi6kx2GH",
        "colab_type": "text"
      },
      "source": [
        "we can now inspect the results. before we do however, it should be noted that one of the features of hdbscan is that it can refuse to cluster some points and classify the as noise to visualize this aspect we will colorprints that we are classifed as noise gray and then color the remaining points according to the cluster membership."
      ]
    },
    {
      "cell_type": "code",
      "metadata": {
        "id": "xbfrahj0zfRo",
        "colab_type": "code",
        "colab": {}
      },
      "source": [
        "clustered=(hdbscan_labels >= 0)\n",
        "plt.scatter(standard_embedding[clustered,0],standard_embedding[clustered,1],\n",
        "            c=hdbscan_labels[clustered],s=0.1)\n",
        "plt.scatter(standard_embedding[clustered,0],standard_embedding[clustered,1],\n",
        "            c=(0.5,0.5,0.5),s=0.1)"
      ],
      "execution_count": 0,
      "outputs": []
    },
    {
      "cell_type": "code",
      "metadata": {
        "id": "sj9xYYta0Qwt",
        "colab_type": "code",
        "colab": {}
      },
      "source": [
        "(adjusted_rand_score(mnist.target,hdbscan_labels),adjusted_mutual_info_score(mnist.target,hdbscan_labels))"
      ],
      "execution_count": 0,
      "outputs": []
    },
    {
      "cell_type": "code",
      "metadata": {
        "id": "WgLXfo0wASIY",
        "colab_type": "code",
        "colab": {}
      },
      "source": [
        ""
      ],
      "execution_count": 0,
      "outputs": []
    },
    {
      "cell_type": "markdown",
      "metadata": {
        "id": "rzV_UhtJXx5l",
        "colab_type": "text"
      },
      "source": [
        "these scores are far worse than kmeans partially this is due to the fact that these scores assume that the noise points are simply an extra  cluster. we can instead only look at the data that hdbscan was actually confident enough to assign to clusters  a simple sub selection will let us recompute the scores for only that data"
      ]
    },
    {
      "cell_type": "code",
      "metadata": {
        "id": "e_CARJRFZU_x",
        "colab_type": "code",
        "colab": {}
      },
      "source": [
        "clustered=(hdbscan_labels >=0)\n",
        "(adjusted_rand_score(mnist.target[clustered],hdbscan_labels[clustered]),\n",
        " adjusted_mutual_info_score(mnist.target[clustered],hdbscan_labels[clustered]))"
      ],
      "execution_count": 0,
      "outputs": []
    },
    {
      "cell_type": "code",
      "metadata": {
        "id": "zMYBn0M-amEo",
        "colab_type": "code",
        "colab": {}
      },
      "source": [
        "np.sum(clustered)/mnist.data.shape[0]"
      ],
      "execution_count": 0,
      "outputs": []
    },
    {
      "cell_type": "code",
      "metadata": {
        "id": "LQvhPl5Yayrf",
        "colab_type": "code",
        "colab": {}
      },
      "source": [
        ""
      ],
      "execution_count": 0,
      "outputs": []
    }
  ]
}